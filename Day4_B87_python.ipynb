{
 "cells": [
  {
   "cell_type": "code",
   "execution_count": null,
   "id": "854a3aaf-0720-4dc5-95f7-053180d1f26f",
   "metadata": {},
   "outputs": [],
   "source": [
    "introduction to numbers:"
   ]
  },
  {
   "cell_type": "code",
   "execution_count": 1,
   "id": "666a33a9-eb6a-4fd5-80bc-bde1bd84d52f",
   "metadata": {},
   "outputs": [
    {
     "name": "stdout",
     "output_type": "stream",
     "text": [
      "123\n"
     ]
    }
   ],
   "source": [
    "number = 123 \n",
    "print(number)"
   ]
  },
  {
   "cell_type": "code",
   "execution_count": 2,
   "id": "ed635243-50ce-4aa2-9051-9501742f1611",
   "metadata": {},
   "outputs": [
    {
     "data": {
      "text/plain": [
       "int"
      ]
     },
     "execution_count": 2,
     "metadata": {},
     "output_type": "execute_result"
    }
   ],
   "source": [
    "type(number)"
   ]
  },
  {
   "cell_type": "code",
   "execution_count": 3,
   "id": "5710a92d-817c-4512-9180-4794be327f98",
   "metadata": {},
   "outputs": [
    {
     "name": "stdout",
     "output_type": "stream",
     "text": [
      "0.1\n"
     ]
    }
   ],
   "source": [
    "number = 0.1\n",
    "print(number)"
   ]
  },
  {
   "cell_type": "code",
   "execution_count": 4,
   "id": "023f285b-a3f3-4b04-9c7c-08fd7e98bc2a",
   "metadata": {},
   "outputs": [
    {
     "data": {
      "text/plain": [
       "float"
      ]
     },
     "execution_count": 4,
     "metadata": {},
     "output_type": "execute_result"
    }
   ],
   "source": [
    "type(number)"
   ]
  },
  {
   "cell_type": "code",
   "execution_count": null,
   "id": "535b6aa4-4235-45b4-b074-aa7e0a3c7bcd",
   "metadata": {},
   "outputs": [],
   "source": [
    "Introduction to list data types:\n",
    "deff: A list is a collection of items defined in a perticular order.\n",
    "    Classification : it is classifies as mutable data type(which we can edit/alter).\n",
    "\n",
    "# How to define a list data type: \n",
    "ans--> Using sqare brackets []"
   ]
  },
  {
   "cell_type": "code",
   "execution_count": 5,
   "id": "fd468702-787c-4aaf-b796-ae307884ecb6",
   "metadata": {},
   "outputs": [
    {
     "name": "stdout",
     "output_type": "stream",
     "text": [
      "['arpita', 'ashwini', 'asma', 'bhuvan', 'david', 'karthik']\n"
     ]
    }
   ],
   "source": [
    "students = ['arpita','ashwini','asma','bhuvan','david','karthik']\n",
    "print(students)"
   ]
  },
  {
   "cell_type": "code",
   "execution_count": 7,
   "id": "523e1614-d8c5-4a39-9ff4-70313b0780e7",
   "metadata": {},
   "outputs": [
    {
     "ename": "SyntaxError",
     "evalue": "invalid syntax (4067305793.py, line 1)",
     "output_type": "error",
     "traceback": [
      "\u001b[1;36m  Cell \u001b[1;32mIn[7], line 1\u001b[1;36m\u001b[0m\n\u001b[1;33m    Introduction to indexing: 0,1,2,3,4,5,6,....\u001b[0m\n\u001b[1;37m                 ^\u001b[0m\n\u001b[1;31mSyntaxError\u001b[0m\u001b[1;31m:\u001b[0m invalid syntax\n"
     ]
    }
   ],
   "source": [
    "Introduction to indexing: 0,1,2,3,4,5,6,....\n",
    "    # req : i want to access ashwini name in the output \n",
    "    "
   ]
  },
  {
   "cell_type": "code",
   "execution_count": 8,
   "id": "cf21b40a-92b5-40d4-a3de-ead7c63696fb",
   "metadata": {},
   "outputs": [
    {
     "name": "stdout",
     "output_type": "stream",
     "text": [
      "ashwini\n"
     ]
    }
   ],
   "source": [
    "print(students[1])"
   ]
  },
  {
   "cell_type": "code",
   "execution_count": 10,
   "id": "fb007642-3b37-43ae-9d5c-07216c8c5ae6",
   "metadata": {},
   "outputs": [
    {
     "name": "stdout",
     "output_type": "stream",
     "text": [
      "Ashwini\n"
     ]
    }
   ],
   "source": [
    "print(students[1].title())"
   ]
  },
  {
   "cell_type": "code",
   "execution_count": null,
   "id": "f7f7e492-08d5-42cb-b5be-0d55de01bb9c",
   "metadata": {},
   "outputs": [],
   "source": [
    "# req: i want to access bhuvan name in the output"
   ]
  },
  {
   "cell_type": "code",
   "execution_count": 11,
   "id": "12d87a1b-8e5f-4bcf-880e-f5d57bba0283",
   "metadata": {},
   "outputs": [
    {
     "name": "stdout",
     "output_type": "stream",
     "text": [
      "bhuvan\n"
     ]
    }
   ],
   "source": [
    "print(students[3])"
   ]
  },
  {
   "cell_type": "code",
   "execution_count": 12,
   "id": "e0d2c90a-a3dd-47d8-bff8-442cc9101d64",
   "metadata": {},
   "outputs": [
    {
     "name": "stdout",
     "output_type": "stream",
     "text": [
      "Bhuvan\n"
     ]
    }
   ],
   "source": [
    "print(students[3].title())"
   ]
  },
  {
   "cell_type": "code",
   "execution_count": null,
   "id": "96cb3820-8d91-4a31-9917-82bcb6f1c294",
   "metadata": {},
   "outputs": [],
   "source": [
    "1. How to add elements in the list\n",
    "2. How to modify the elements in the list \n",
    "3. How to delete the elements in the list "
   ]
  },
  {
   "cell_type": "code",
   "execution_count": 13,
   "id": "2644501e-7fb1-4e94-a072-ff29d82f3135",
   "metadata": {},
   "outputs": [
    {
     "name": "stdout",
     "output_type": "stream",
     "text": [
      "['arpita', 'ashwini', 'asma', 'bhuvan', 'david', 'karthik']\n"
     ]
    }
   ],
   "source": [
    "print(students)"
   ]
  },
  {
   "cell_type": "code",
   "execution_count": null,
   "id": "b1099119-11f7-4149-bc1e-969e108621ad",
   "metadata": {},
   "outputs": [],
   "source": [
    "# req: i want to add shafi name in the above list"
   ]
  },
  {
   "cell_type": "code",
   "execution_count": 17,
   "id": "3e547846-1170-4b16-b7ae-0000f1df4bce",
   "metadata": {},
   "outputs": [],
   "source": [
    "students.append('shafi')"
   ]
  },
  {
   "cell_type": "code",
   "execution_count": 18,
   "id": "38510953-665c-4b21-aca3-aa6429d4a763",
   "metadata": {},
   "outputs": [
    {
     "name": "stdout",
     "output_type": "stream",
     "text": [
      "['arpita', 'ashwini', 'asma', 'bhuvan', 'david', 'karthik', 'shafi', 'shafi']\n"
     ]
    }
   ],
   "source": [
    "print(students)"
   ]
  },
  {
   "cell_type": "code",
   "execution_count": null,
   "id": "1b11b172-3509-4219-8f00-4555e61e2e88",
   "metadata": {},
   "outputs": [],
   "source": [
    "# req: i want to add kaleem at 2nd index position"
   ]
  },
  {
   "cell_type": "code",
   "execution_count": 19,
   "id": "81a09112-706b-4ed2-899e-2acf35e0ebdf",
   "metadata": {},
   "outputs": [],
   "source": [
    "students.insert(2,'kaleem')"
   ]
  },
  {
   "cell_type": "code",
   "execution_count": 20,
   "id": "fd03b45e-fd66-426f-93ab-2e777809e641",
   "metadata": {},
   "outputs": [
    {
     "name": "stdout",
     "output_type": "stream",
     "text": [
      "['arpita', 'ashwini', 'kaleem', 'asma', 'bhuvan', 'david', 'karthik', 'shafi', 'shafi']\n"
     ]
    }
   ],
   "source": [
    "print(students)"
   ]
  },
  {
   "cell_type": "code",
   "execution_count": null,
   "id": "51ef8afe-acf7-402a-ab36-0f9850d04108",
   "metadata": {},
   "outputs": [],
   "source": [
    "# req: i want to modify arpita to anand "
   ]
  },
  {
   "cell_type": "code",
   "execution_count": 22,
   "id": "6de384f3-2679-48d5-a100-583bca5a9969",
   "metadata": {},
   "outputs": [],
   "source": [
    "students[0]=('anand')"
   ]
  },
  {
   "cell_type": "code",
   "execution_count": 23,
   "id": "4702691d-bfeb-4500-ac8a-c0a048d9f2c5",
   "metadata": {},
   "outputs": [
    {
     "name": "stdout",
     "output_type": "stream",
     "text": [
      "['anand', 'ashwini', 'kaleem', 'asma', 'bhuvan', 'david', 'karthik', 'shafi', 'shafi']\n"
     ]
    }
   ],
   "source": [
    "print(students)"
   ]
  },
  {
   "cell_type": "code",
   "execution_count": null,
   "id": "0bf67d00-af74-454d-9f8f-62148e6d170c",
   "metadata": {},
   "outputs": [],
   "source": [
    "# req: i want to delete ashwini name from the above list"
   ]
  },
  {
   "cell_type": "code",
   "execution_count": 24,
   "id": "c1d3b514-325a-499c-a0c2-7f304b8fceb5",
   "metadata": {},
   "outputs": [],
   "source": [
    "del students[1]"
   ]
  },
  {
   "cell_type": "code",
   "execution_count": 25,
   "id": "52f4ad58-f3c1-4bb5-a460-eb63903c940e",
   "metadata": {},
   "outputs": [
    {
     "name": "stdout",
     "output_type": "stream",
     "text": [
      "['anand', 'kaleem', 'asma', 'bhuvan', 'david', 'karthik', 'shafi', 'shafi']\n"
     ]
    }
   ],
   "source": [
    "print(students)"
   ]
  },
  {
   "cell_type": "code",
   "execution_count": 26,
   "id": "6799450e-1215-40a6-a090-720aa5ec9c3e",
   "metadata": {},
   "outputs": [],
   "source": [
    "del students[7]"
   ]
  },
  {
   "cell_type": "code",
   "execution_count": 27,
   "id": "a364ec3b-fe3a-4fa4-bdcd-819c20dfd657",
   "metadata": {},
   "outputs": [
    {
     "name": "stdout",
     "output_type": "stream",
     "text": [
      "['anand', 'kaleem', 'asma', 'bhuvan', 'david', 'karthik', 'shafi']\n"
     ]
    }
   ],
   "source": [
    "print(students)"
   ]
  },
  {
   "cell_type": "code",
   "execution_count": null,
   "id": "f6039895-baf4-4206-bb6a-c9f601606679",
   "metadata": {},
   "outputs": [],
   "source": []
  }
 ],
 "metadata": {
  "kernelspec": {
   "display_name": "Python [conda env:base] *",
   "language": "python",
   "name": "conda-base-py"
  },
  "language_info": {
   "codemirror_mode": {
    "name": "ipython",
    "version": 3
   },
   "file_extension": ".py",
   "mimetype": "text/x-python",
   "name": "python",
   "nbconvert_exporter": "python",
   "pygments_lexer": "ipython3",
   "version": "3.11.4"
  }
 },
 "nbformat": 4,
 "nbformat_minor": 5
}
