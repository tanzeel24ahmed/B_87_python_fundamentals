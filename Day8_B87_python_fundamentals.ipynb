{
 "cells": [
  {
   "cell_type": "code",
   "execution_count": null,
   "id": "a7fd002d-fe8f-46e0-928b-10d4251c486f",
   "metadata": {},
   "outputs": [],
   "source": [
    "Introduction to conditional statements:"
   ]
  },
  {
   "cell_type": "code",
   "execution_count": null,
   "id": "2c925102-b4e4-4ad6-9699-d85fd3d2f608",
   "metadata": {},
   "outputs": [],
   "source": [
    "if statements:"
   ]
  },
  {
   "cell_type": "code",
   "execution_count": 1,
   "id": "0f5fb6a8-c5e7-4bc2-9826-0e1cff0f12c3",
   "metadata": {},
   "outputs": [
    {
     "name": "stdout",
     "output_type": "stream",
     "text": [
      "['audi', 'bmw', 'hyundai', 'toyota', 'kia', 'suzuki', 'maruthi']\n"
     ]
    }
   ],
   "source": [
    "cars = ['audi','bmw','hyundai','toyota','kia','suzuki','maruthi']\n",
    "print(cars)"
   ]
  },
  {
   "cell_type": "code",
   "execution_count": 2,
   "id": "7c427182-2f47-4663-9df2-7df05c2e42e8",
   "metadata": {},
   "outputs": [
    {
     "data": {
      "text/plain": [
       "list"
      ]
     },
     "execution_count": 2,
     "metadata": {},
     "output_type": "execute_result"
    }
   ],
   "source": [
    "type(cars)"
   ]
  },
  {
   "cell_type": "code",
   "execution_count": null,
   "id": "b1a1f581-942c-433e-9dba-a9135f6c6869",
   "metadata": {},
   "outputs": [],
   "source": [
    "# req: i want to get suzuki in the capital letters and rest all the cars should be print in small case"
   ]
  },
  {
   "cell_type": "code",
   "execution_count": 4,
   "id": "01b77b89-2bfe-4155-b016-499375dbf64a",
   "metadata": {},
   "outputs": [
    {
     "name": "stdout",
     "output_type": "stream",
     "text": [
      "Audi\n",
      "Bmw\n",
      "Hyundai\n",
      "Toyota\n",
      "Kia\n",
      "SUZUKI\n",
      "Maruthi\n"
     ]
    }
   ],
   "source": [
    "for a in cars :\n",
    "    if a == 'suzuki':\n",
    "        print(a.upper())\n",
    "    else:\n",
    "        print(a.title())"
   ]
  },
  {
   "cell_type": "code",
   "execution_count": null,
   "id": "3551b15e-76d9-420f-aa96-03decdc75164",
   "metadata": {},
   "outputs": [],
   "source": [
    "# req: building an voting application."
   ]
  },
  {
   "cell_type": "code",
   "execution_count": 5,
   "id": "3bc47734-ed2e-46d1-971b-358cde3ac6aa",
   "metadata": {},
   "outputs": [
    {
     "data": {
      "text/plain": [
       "int"
      ]
     },
     "execution_count": 5,
     "metadata": {},
     "output_type": "execute_result"
    }
   ],
   "source": [
    "age = 17\n",
    "type(age)"
   ]
  },
  {
   "cell_type": "code",
   "execution_count": 9,
   "id": "34ab2a59-4794-422b-be05-c27af2a286d1",
   "metadata": {},
   "outputs": [
    {
     "name": "stdin",
     "output_type": "stream",
     "text": [
      "enter your age 18\n"
     ]
    },
    {
     "name": "stdout",
     "output_type": "stream",
     "text": [
      "you are eligible to vote\n"
     ]
    }
   ],
   "source": [
    "age = input(\"enter your age\")\n",
    "age = int(age)\n",
    "if age >= 18:\n",
    "    print(\"you are eligible to vote\")\n",
    "else: \n",
    "    print(\"you are not eligible to vote, try next year\")"
   ]
  },
  {
   "cell_type": "code",
   "execution_count": null,
   "id": "3cc02088-6c33-43f7-95c7-7871764a2e2f",
   "metadata": {},
   "outputs": [],
   "source": [
    "Understanding the concept of user input:"
   ]
  },
  {
   "cell_type": "code",
   "execution_count": 12,
   "id": "722bd963-7ee4-4b68-b2f6-5cb1c9e3e749",
   "metadata": {},
   "outputs": [
    {
     "name": "stdin",
     "output_type": "stream",
     "text": [
      "tell me something and i will repet it back for you!! hi\n"
     ]
    }
   ],
   "source": [
    "message = input(\"tell me something and i will repet it back for you!!\")"
   ]
  },
  {
   "cell_type": "code",
   "execution_count": null,
   "id": "25803715-ed3a-4689-9e08-ad19d655425a",
   "metadata": {},
   "outputs": [],
   "source": [
    "# req: i want to greet the user based on the input  "
   ]
  },
  {
   "cell_type": "code",
   "execution_count": 16,
   "id": "ca9d7c6a-554b-4e46-98e8-06ac7ce78826",
   "metadata": {},
   "outputs": [
    {
     "name": "stdin",
     "output_type": "stream",
     "text": [
      "enter your name tanzeel\n"
     ]
    },
    {
     "name": "stdout",
     "output_type": "stream",
     "text": [
      "\n",
      " hello ,tanzeel!\n"
     ]
    }
   ],
   "source": [
    "name = input(\"enter your name\")\n",
    "print(f\"\\n hello ,{name}!\")"
   ]
  },
  {
   "cell_type": "code",
   "execution_count": 18,
   "id": "a8b980d1-bf99-4113-adf9-ffe4cf38e2eb",
   "metadata": {},
   "outputs": [
    {
     "name": "stdin",
     "output_type": "stream",
     "text": [
      "how old re you..? 20\n"
     ]
    },
    {
     "name": "stdout",
     "output_type": "stream",
     "text": [
      "you are eligible to vote\n"
     ]
    }
   ],
   "source": [
    "age = input(\"how old re you..?\")\n",
    "age = int(age)\n",
    "if age >= 18:\n",
    "    print(\"you are eligible to vote\")\n",
    "else:\n",
    "    print(\"you are not eligible to vote, try next year\")"
   ]
  },
  {
   "cell_type": "code",
   "execution_count": null,
   "id": "c3d6054a-b682-4add-98ed-5ff7426d6c69",
   "metadata": {},
   "outputs": [],
   "source": [
    "# req: if given a number by the user, i want to find weather the number is even or odd!!"
   ]
  },
  {
   "cell_type": "code",
   "execution_count": 20,
   "id": "c0255e42-4f65-41da-a61e-b0e6d68259ee",
   "metadata": {},
   "outputs": [
    {
     "name": "stdin",
     "output_type": "stream",
     "text": [
      "enter your number 21\n"
     ]
    },
    {
     "name": "stdout",
     "output_type": "stream",
     "text": [
      "\n",
      " the number 21is odd \n",
      "\n"
     ]
    }
   ],
   "source": [
    "number = input(\"enter your number\")\n",
    "number = int(number)\n",
    "if number%2 ==0:\n",
    "    print(f\"\\n the number number{number}is even\")\n",
    "else:\n",
    "    print(f\"\\n the number {number}is odd\")"
   ]
  },
  {
   "cell_type": "code",
   "execution_count": null,
   "id": "80eb2b81-9df8-470b-bb12-337f67e5cc07",
   "metadata": {},
   "outputs": [],
   "source": []
  },
  {
   "cell_type": "code",
   "execution_count": null,
   "id": "b713d8ca-680e-4447-848c-96f43f6958d7",
   "metadata": {},
   "outputs": [],
   "source": []
  },
  {
   "cell_type": "code",
   "execution_count": null,
   "id": "892b897a-ac36-4d9f-b5c9-53ae9f47b4aa",
   "metadata": {},
   "outputs": [],
   "source": []
  },
  {
   "cell_type": "code",
   "execution_count": null,
   "id": "8e0fc870-dd1e-42c5-a13b-6cead4570a3c",
   "metadata": {},
   "outputs": [],
   "source": []
  },
  {
   "cell_type": "code",
   "execution_count": null,
   "id": "824144f4-13d5-44f4-a174-e794c97d2d57",
   "metadata": {},
   "outputs": [],
   "source": []
  },
  {
   "cell_type": "code",
   "execution_count": null,
   "id": "61ed525c-537b-4f33-bd46-e3bfe559df44",
   "metadata": {},
   "outputs": [],
   "source": []
  },
  {
   "cell_type": "code",
   "execution_count": null,
   "id": "88243169-a3af-4fb9-b109-7a721fe4dcb7",
   "metadata": {},
   "outputs": [],
   "source": []
  },
  {
   "cell_type": "code",
   "execution_count": null,
   "id": "e109bf6b-e859-4e07-a2a9-75f3d5c9a2c7",
   "metadata": {},
   "outputs": [],
   "source": []
  }
 ],
 "metadata": {
  "kernelspec": {
   "display_name": "Python [conda env:base] *",
   "language": "python",
   "name": "conda-base-py"
  },
  "language_info": {
   "codemirror_mode": {
    "name": "ipython",
    "version": 3
   },
   "file_extension": ".py",
   "mimetype": "text/x-python",
   "name": "python",
   "nbconvert_exporter": "python",
   "pygments_lexer": "ipython3",
   "version": "3.11.4"
  }
 },
 "nbformat": 4,
 "nbformat_minor": 5
}
