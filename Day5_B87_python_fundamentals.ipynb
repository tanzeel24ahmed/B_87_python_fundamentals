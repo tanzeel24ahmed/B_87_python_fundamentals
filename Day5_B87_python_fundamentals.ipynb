{
 "cells": [
  {
   "cell_type": "code",
   "execution_count": null,
   "id": "5d601853-6eeb-4889-885f-4c6670c13f73",
   "metadata": {},
   "outputs": [],
   "source": [
    "organising the list data type:"
   ]
  },
  {
   "cell_type": "code",
   "execution_count": 9,
   "id": "2dc6c3b3-352c-496a-8a61-76c6f3f79b01",
   "metadata": {},
   "outputs": [
    {
     "name": "stdout",
     "output_type": "stream",
     "text": [
      "['bmw', 'tata', 'suzuku', 'audi', 'toyota', 'benz']\n"
     ]
    }
   ],
   "source": [
    "cars = ['bmw','tata','suzuku','audi','toyota','benz',]\n",
    "print(cars)"
   ]
  },
  {
   "cell_type": "code",
   "execution_count": 10,
   "id": "7387a3b0-6833-4f45-b12c-c030e39bbd10",
   "metadata": {},
   "outputs": [
    {
     "data": {
      "text/plain": [
       "list"
      ]
     },
     "execution_count": 10,
     "metadata": {},
     "output_type": "execute_result"
    }
   ],
   "source": [
    "type(cars)"
   ]
  },
  {
   "cell_type": "code",
   "execution_count": null,
   "id": "d7c267be-0480-4982-b443-4aa2a4534fd1",
   "metadata": {},
   "outputs": [],
   "source": [
    "# i want to organize the list in alphabetical order :\n",
    "there are 2 approaches\n",
    "1: Temporary approach =>sorted method\n",
    "in this method we will be able to get the original order defined.\n",
    "2: Permanent approach => sort method ."
   ]
  },
  {
   "cell_type": "code",
   "execution_count": 11,
   "id": "111ebfba-6b80-4207-b048-0188fed8b446",
   "metadata": {},
   "outputs": [
    {
     "name": "stdout",
     "output_type": "stream",
     "text": [
      "['audi', 'benz', 'bmw', 'suzuku', 'tata', 'toyota']\n"
     ]
    }
   ],
   "source": [
    "print(sorted(cars))"
   ]
  },
  {
   "cell_type": "code",
   "execution_count": 13,
   "id": "0fb49d89-a66e-471e-a4d1-e1fa7ebc8524",
   "metadata": {},
   "outputs": [
    {
     "name": "stdout",
     "output_type": "stream",
     "text": [
      "['bmw', 'tata', 'suzuku', 'audi', 'toyota', 'benz']\n"
     ]
    }
   ],
   "source": [
    "print(cars)"
   ]
  },
  {
   "cell_type": "code",
   "execution_count": 15,
   "id": "b3c7e4aa-8571-4da5-a815-6c88e0973ff7",
   "metadata": {},
   "outputs": [],
   "source": [
    "cars.sort()"
   ]
  },
  {
   "cell_type": "code",
   "execution_count": 16,
   "id": "969c668a-9631-4572-a6d7-9a1b60150aac",
   "metadata": {},
   "outputs": [
    {
     "name": "stdout",
     "output_type": "stream",
     "text": [
      "['audi', 'benz', 'bmw', 'suzuku', 'tata', 'toyota']\n"
     ]
    }
   ],
   "source": [
    "print(cars)"
   ]
  },
  {
   "cell_type": "code",
   "execution_count": null,
   "id": "a7ccd8f8-45f7-44a3-8a01-272de3617c99",
   "metadata": {},
   "outputs": [],
   "source": [
    "# req : i want to print the list in A - Z , Z - A"
   ]
  },
  {
   "cell_type": "code",
   "execution_count": 18,
   "id": "87fe3186-b627-4ad8-bb1c-a8acc09a03dd",
   "metadata": {},
   "outputs": [],
   "source": [
    "cars.reverse()"
   ]
  },
  {
   "cell_type": "code",
   "execution_count": 19,
   "id": "832917c3-6853-4792-a061-e8bb6fa6fe8a",
   "metadata": {},
   "outputs": [
    {
     "name": "stdout",
     "output_type": "stream",
     "text": [
      "['toyota', 'tata', 'suzuku', 'bmw', 'benz', 'audi']\n"
     ]
    }
   ],
   "source": [
    "print(cars)"
   ]
  },
  {
   "cell_type": "code",
   "execution_count": null,
   "id": "2133d42f-6e09-4985-ab9d-6fbfdbd5a0d3",
   "metadata": {},
   "outputs": [],
   "source": [
    "Introduction to slicing :"
   ]
  },
  {
   "cell_type": "code",
   "execution_count": 27,
   "id": "5f0462f7-01cd-4af6-a2f1-b22e13e1ed35",
   "metadata": {},
   "outputs": [],
   "source": [
    "students =['anika','arpita','bhushan','bhanu','chandra','cynthya','danish']"
   ]
  },
  {
   "cell_type": "code",
   "execution_count": 28,
   "id": "4214312f-2084-493c-8855-b0c7f94a9615",
   "metadata": {},
   "outputs": [
    {
     "name": "stdout",
     "output_type": "stream",
     "text": [
      "['anika', 'arpita', 'bhushan', 'bhanu', 'chandra', 'cynthya', 'danish']\n"
     ]
    }
   ],
   "source": [
    "print(students)"
   ]
  },
  {
   "cell_type": "code",
   "execution_count": null,
   "id": "807ee503-7a9f-4404-a541-2d6464c00701",
   "metadata": {},
   "outputs": [],
   "source": [
    "# general syntax for slicing \n",
    "[start_value: stop_value: step_count"
   ]
  },
  {
   "cell_type": "code",
   "execution_count": null,
   "id": "5e201291-f72d-49c4-914c-6b4bc061339c",
   "metadata": {},
   "outputs": [],
   "source": [
    "# req :i want to include anika and arpita in the slice "
   ]
  },
  {
   "cell_type": "code",
   "execution_count": 29,
   "id": "c538998e-87d1-4036-b1d5-af8469ad2d85",
   "metadata": {},
   "outputs": [
    {
     "name": "stdout",
     "output_type": "stream",
     "text": [
      "['anika', 'arpita']\n"
     ]
    }
   ],
   "source": [
    "print(students[0:2])"
   ]
  },
  {
   "cell_type": "code",
   "execution_count": 38,
   "id": "f518d895-ded2-47f8-8764-2851cf8f6f62",
   "metadata": {},
   "outputs": [
    {
     "name": "stdout",
     "output_type": "stream",
     "text": [
      "['anika', 'arpita', 'bhushan', 'bhanu', 'chandra', 'cynthya']\n"
     ]
    }
   ],
   "source": [
    "print(students[0:6])"
   ]
  },
  {
   "cell_type": "code",
   "execution_count": null,
   "id": "f20af8f6-4d91-49fe-a568-4368bee24cf0",
   "metadata": {},
   "outputs": [],
   "source": [
    "Introduction to tuple data type: \n",
    "deff: An immutable list is called as tuple.\n",
    "classification: It is classfied as an immutable data type\n",
    "# How to define the tuple data type: Using '()' paranthesis. "
   ]
  },
  {
   "cell_type": "code",
   "execution_count": 39,
   "id": "4d971daf-f0d7-4001-ad5a-515b55a9d210",
   "metadata": {},
   "outputs": [
    {
     "name": "stdout",
     "output_type": "stream",
     "text": [
      "(20, 50)\n"
     ]
    }
   ],
   "source": [
    "dimensions = (20,50)\n",
    "print(dimensions)"
   ]
  },
  {
   "cell_type": "code",
   "execution_count": 40,
   "id": "65a6f848-8ccc-4c26-9a42-932198fc15b1",
   "metadata": {},
   "outputs": [
    {
     "data": {
      "text/plain": [
       "tuple"
      ]
     },
     "execution_count": 40,
     "metadata": {},
     "output_type": "execute_result"
    }
   ],
   "source": [
    "type(dimensions)"
   ]
  },
  {
   "cell_type": "code",
   "execution_count": null,
   "id": "b751757f-d9e6-4234-a7e5-ca5aac7bb6e3",
   "metadata": {},
   "outputs": [],
   "source": []
  },
  {
   "cell_type": "code",
   "execution_count": null,
   "id": "b3d900f5-e20c-432c-81a8-042fc99ee05a",
   "metadata": {},
   "outputs": [],
   "source": []
  }
 ],
 "metadata": {
  "kernelspec": {
   "display_name": "Python [conda env:base] *",
   "language": "python",
   "name": "conda-base-py"
  },
  "language_info": {
   "codemirror_mode": {
    "name": "ipython",
    "version": 3
   },
   "file_extension": ".py",
   "mimetype": "text/x-python",
   "name": "python",
   "nbconvert_exporter": "python",
   "pygments_lexer": "ipython3",
   "version": "3.11.4"
  }
 },
 "nbformat": 4,
 "nbformat_minor": 5
}
