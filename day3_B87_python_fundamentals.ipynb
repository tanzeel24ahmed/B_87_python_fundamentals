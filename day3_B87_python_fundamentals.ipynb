{
 "cells": [
  {
   "cell_type": "code",
   "execution_count": null,
   "id": "41837dbb-6329-4a5c-89b3-519a716c3622",
   "metadata": {},
   "outputs": [],
   "source": [
    "understanding the variables in python"
   ]
  },
  {
   "cell_type": "code",
   "execution_count": null,
   "id": "2ae92c3d-3dea-4941-9f81-980016f1b935",
   "metadata": {},
   "outputs": [],
   "source": [
    "Rules for declaring the variables in python"
   ]
  },
  {
   "cell_type": "code",
   "execution_count": null,
   "id": "21c332d9-f217-4eaf-a7b9-94a82f68d392",
   "metadata": {},
   "outputs": [],
   "source": [
    "1 : No namespaces while declaring the variable name in python"
   ]
  },
  {
   "cell_type": "code",
   "execution_count": 2,
   "id": "0eaafe17-4ec0-4f3a-a4de-858b41d94151",
   "metadata": {},
   "outputs": [
    {
     "ename": "SyntaxError",
     "evalue": "invalid syntax (1892733777.py, line 1)",
     "output_type": "error",
     "traceback": [
      "\u001b[1;36m  Cell \u001b[1;32mIn[2], line 1\u001b[1;36m\u001b[0m\n\u001b[1;33m    ex:\u001b[0m\n\u001b[1;37m        ^\u001b[0m\n\u001b[1;31mSyntaxError\u001b[0m\u001b[1;31m:\u001b[0m invalid syntax\n"
     ]
    }
   ],
   "source": [
    "ex: \n",
    "my name = \"tanzeel ahmed\""
   ]
  },
  {
   "cell_type": "code",
   "execution_count": 3,
   "id": "729c0b5c-c4f2-45bb-99f2-ef0a217c9721",
   "metadata": {},
   "outputs": [],
   "source": [
    "myname = \"tanzeel ahmed\""
   ]
  },
  {
   "cell_type": "code",
   "execution_count": null,
   "id": "4e8ef7e6-c227-426e-8061-7dbd28aa33ca",
   "metadata": {},
   "outputs": [],
   "source": [
    "2 : a variable name should not start with a number ** "
   ]
  },
  {
   "cell_type": "code",
   "execution_count": 5,
   "id": "34b79947-e5e7-4bf5-a2d4-d5db5078abf3",
   "metadata": {},
   "outputs": [
    {
     "ename": "SyntaxError",
     "evalue": "invalid decimal literal (2322615882.py, line 1)",
     "output_type": "error",
     "traceback": [
      "\u001b[1;36m  Cell \u001b[1;32mIn[5], line 1\u001b[1;36m\u001b[0m\n\u001b[1;33m    ex : 1name = \"tanzeel ahmed\"\u001b[0m\n\u001b[1;37m         ^\u001b[0m\n\u001b[1;31mSyntaxError\u001b[0m\u001b[1;31m:\u001b[0m invalid decimal literal\n"
     ]
    }
   ],
   "source": [
    "ex : 1name = \"tanzeel ahmed\" "
   ]
  },
  {
   "cell_type": "code",
   "execution_count": 6,
   "id": "0e70d6f5-6021-460f-81ac-85d110d01ee1",
   "metadata": {},
   "outputs": [],
   "source": [
    "name1 = \"tanzeel ahmed\""
   ]
  },
  {
   "cell_type": "code",
   "execution_count": null,
   "id": "cf5b7797-a86e-4ece-8ba9-c3d4eb7f9f3b",
   "metadata": {},
   "outputs": [],
   "source": [
    "3 : A variable name should not contain any special character. @,*,%,$,& etc "
   ]
  },
  {
   "cell_type": "code",
   "execution_count": 7,
   "id": "3f9dc810-f24b-4c4b-9023-826954d09576",
   "metadata": {},
   "outputs": [
    {
     "ename": "SyntaxError",
     "evalue": "invalid syntax (3408481933.py, line 1)",
     "output_type": "error",
     "traceback": [
      "\u001b[1;36m  Cell \u001b[1;32mIn[7], line 1\u001b[1;36m\u001b[0m\n\u001b[1;33m    ex : name@ = \"tanzeel ahmed\"\u001b[0m\n\u001b[1;37m               ^\u001b[0m\n\u001b[1;31mSyntaxError\u001b[0m\u001b[1;31m:\u001b[0m invalid syntax\n"
     ]
    }
   ],
   "source": [
    "ex : name@ = \"tanzeel ahmed\""
   ]
  },
  {
   "cell_type": "code",
   "execution_count": null,
   "id": "d88cb2ae-5bd0-46a8-8957-c487c354fb54",
   "metadata": {},
   "outputs": [],
   "source": [
    "Introduction to data types in python :"
   ]
  },
  {
   "cell_type": "code",
   "execution_count": null,
   "id": "4eb0ddc9-3f43-4102-a67e-613fbc35160c",
   "metadata": {},
   "outputs": [],
   "source": [
    "1: strings===>str\n",
    "2: numbers===>integers===>int===>floats===>float\n",
    "3: list===>list\n",
    "4: tuples===>tuple\n",
    "5: dictionaries===>dict"
   ]
  },
  {
   "cell_type": "code",
   "execution_count": null,
   "id": "ec764e4e-0e7a-4f86-bdaa-3134d92de3e3",
   "metadata": {},
   "outputs": [],
   "source": [
    "Note:- python is a case sensitive programming language."
   ]
  },
  {
   "cell_type": "code",
   "execution_count": null,
   "id": "18f6d8d9-e13b-4b02-aec9-d1d327911931",
   "metadata": {},
   "outputs": [],
   "source": [
    "classification of data types."
   ]
  },
  {
   "cell_type": "code",
   "execution_count": null,
   "id": "49404245-01c8-4bb5-9587-e06eb57cecec",
   "metadata": {},
   "outputs": [],
   "source": [
    "--> broadly the data types are classified into 2 types "
   ]
  },
  {
   "cell_type": "code",
   "execution_count": null,
   "id": "49dfc3dd-84be-4fd8-ac49-cf742c2e9354",
   "metadata": {},
   "outputs": [],
   "source": [
    "1. mutable data types:- \n",
    "-> which we can edit/alter ==> flexible in nature.\n",
    "2. immutable data types:- \n",
    "-> which we cannot be able to edit==> these are fixed in nature."
   ]
  },
  {
   "cell_type": "code",
   "execution_count": null,
   "id": "595cde68-cad8-4fb7-99e3-5d5ac5f5cfd7",
   "metadata": {},
   "outputs": [],
   "source": [
    "introduction to string data types ."
   ]
  },
  {
   "cell_type": "code",
   "execution_count": null,
   "id": "c65ec733-fbc9-4ca1-9efb-39594fe6a835",
   "metadata": {},
   "outputs": [],
   "source": [
    "def-> A string is a series of a charecters declared in quotes."
   ]
  },
  {
   "cell_type": "code",
   "execution_count": null,
   "id": "9ab96cf7-795d-4669-abed-f42d265b2e2b",
   "metadata": {},
   "outputs": [],
   "source": [
    "classification:- it is classified as immutable datatype. "
   ]
  },
  {
   "cell_type": "code",
   "execution_count": null,
   "id": "b2bb17d0-56ed-4770-a8bb-1784791bfe58",
   "metadata": {},
   "outputs": [],
   "source": [
    "How to declare a string data type.\n",
    "    There are 2 approaches \n",
    "1. single quote.\n",
    "2. double quote.\n",
    "    ex:"
   ]
  },
  {
   "cell_type": "code",
   "execution_count": 8,
   "id": "2f496a19-d2fc-4601-8fc8-612e187d8e20",
   "metadata": {},
   "outputs": [
    {
     "name": "stdout",
     "output_type": "stream",
     "text": [
      "joseph\n"
     ]
    }
   ],
   "source": [
    "name = 'joseph'      #single quotes\n",
    "print(name)"
   ]
  },
  {
   "cell_type": "code",
   "execution_count": 9,
   "id": "1ae1d080-b888-40d4-b506-f63e07d2d304",
   "metadata": {},
   "outputs": [
    {
     "name": "stdout",
     "output_type": "stream",
     "text": [
      "joseph\n"
     ]
    }
   ],
   "source": [
    "name2 = \"joseph\"     #double quotes\n",
    "print(name2)"
   ]
  },
  {
   "cell_type": "code",
   "execution_count": null,
   "id": "ca5593b5-0548-4dab-8c7f-4e55e6dfbbd8",
   "metadata": {},
   "outputs": [],
   "source": [
    "Introduction to string methods."
   ]
  },
  {
   "cell_type": "code",
   "execution_count": 11,
   "id": "31a0a01b-9050-4986-beb6-612cf4d2e2b9",
   "metadata": {},
   "outputs": [
    {
     "data": {
      "text/plain": [
       "str"
      ]
     },
     "execution_count": 11,
     "metadata": {},
     "output_type": "execute_result"
    }
   ],
   "source": [
    "type(name)"
   ]
  },
  {
   "cell_type": "code",
   "execution_count": 12,
   "id": "c6e114c5-74c1-41db-8a75-9d95af571941",
   "metadata": {},
   "outputs": [
    {
     "data": {
      "text/plain": [
       "str"
      ]
     },
     "execution_count": 12,
     "metadata": {},
     "output_type": "execute_result"
    }
   ],
   "source": [
    "type(name2)"
   ]
  },
  {
   "cell_type": "code",
   "execution_count": 14,
   "id": "7c591649-73a0-4e67-9f3a-c25daa09d4e8",
   "metadata": {},
   "outputs": [
    {
     "name": "stdout",
     "output_type": "stream",
     "text": [
      "tanzeel ahmed\n"
     ]
    }
   ],
   "source": [
    "fullname = \"tanzeel ahmed\"\n",
    "print(fullname)"
   ]
  },
  {
   "cell_type": "code",
   "execution_count": null,
   "id": "15380f06-70e3-4a18-af9f-5018d79e29e5",
   "metadata": {},
   "outputs": [],
   "source": [
    "#req to correct the format "
   ]
  },
  {
   "cell_type": "code",
   "execution_count": 19,
   "id": "f09b3c84-2b7f-4c58-8441-a02f244b529d",
   "metadata": {},
   "outputs": [
    {
     "name": "stdout",
     "output_type": "stream",
     "text": [
      "Tanzeel Ahmed\n"
     ]
    }
   ],
   "source": [
    "print(fullname.title())"
   ]
  },
  {
   "cell_type": "code",
   "execution_count": null,
   "id": "847740ee-330e-403c-9067-7d9e5b548e9a",
   "metadata": {},
   "outputs": [],
   "source": [
    "#req :  i want entire name in capital"
   ]
  },
  {
   "cell_type": "code",
   "execution_count": 20,
   "id": "48e6d053-56e6-490b-a911-072d84e6fb14",
   "metadata": {},
   "outputs": [
    {
     "name": "stdout",
     "output_type": "stream",
     "text": [
      "TANZEEL AHMED\n"
     ]
    }
   ],
   "source": [
    "print(fullname.upper())"
   ]
  },
  {
   "cell_type": "code",
   "execution_count": null,
   "id": "bffe78d2-033b-4399-aec0-e5000d4b33d5",
   "metadata": {},
   "outputs": [],
   "source": [
    "#req : i want entire name in small"
   ]
  },
  {
   "cell_type": "code",
   "execution_count": 21,
   "id": "34cd39dd-3b76-442f-a5a4-671157c2a2e5",
   "metadata": {},
   "outputs": [
    {
     "name": "stdout",
     "output_type": "stream",
     "text": [
      "tanzeel ahmed\n"
     ]
    }
   ],
   "source": [
    "print(fullname.lower())"
   ]
  },
  {
   "cell_type": "code",
   "execution_count": null,
   "id": "11d20c69-608e-45d7-85fa-f8fe1b9ae393",
   "metadata": {},
   "outputs": [],
   "source": [
    "Introduction to f string.**"
   ]
  },
  {
   "cell_type": "code",
   "execution_count": 42,
   "id": "edd2339e-8bdd-413b-a0f9-35700c4eba7a",
   "metadata": {},
   "outputs": [],
   "source": [
    "firstname = 'dinesh'"
   ]
  },
  {
   "cell_type": "code",
   "execution_count": 43,
   "id": "aea649c0-b3a5-4a62-b459-e5c04900f435",
   "metadata": {},
   "outputs": [],
   "source": [
    "lastname = 'kumar'"
   ]
  },
  {
   "cell_type": "code",
   "execution_count": 35,
   "id": "fedfde1d-695a-4f8c-b941-d7e67807c855",
   "metadata": {},
   "outputs": [],
   "source": [
    "#grnral syntax of f strings."
   ]
  },
  {
   "cell_type": "code",
   "execution_count": 38,
   "id": "f5a304ef-a7d5-4a12-a0fb-c8e741794dd2",
   "metadata": {},
   "outputs": [],
   "source": [
    "f \"custom message {place_holder1} {place_holder2}...{place_holdern}"
   ]
  },
  {
   "cell_type": "code",
   "execution_count": 57,
   "id": "0f830136-6197-4151-9006-9be23983795d",
   "metadata": {},
   "outputs": [
    {
     "ename": "SyntaxError",
     "evalue": "invalid syntax (2243592444.py, line 1)",
     "output_type": "error",
     "traceback": [
      "\u001b[1;36m  Cell \u001b[1;32mIn[57], line 1\u001b[1;36m\u001b[0m\n\u001b[1;33m    fullname = f \"{firstname} {latname}\"\u001b[0m\n\u001b[1;37m                 ^\u001b[0m\n\u001b[1;31mSyntaxError\u001b[0m\u001b[1;31m:\u001b[0m invalid syntax\n"
     ]
    }
   ],
   "source": [
    "fullname = f \"{firstname} {latname}\""
   ]
  },
  {
   "cell_type": "code",
   "execution_count": null,
   "id": "f45d4ba2-38d9-4652-9e83-afe6d6886752",
   "metadata": {},
   "outputs": [],
   "source": [
    "i could not solve this error sir "
   ]
  },
  {
   "cell_type": "code",
   "execution_count": null,
   "id": "394ff8c7-f872-428b-b6b3-b9f2c66533cc",
   "metadata": {},
   "outputs": [],
   "source": [
    "Adding white spaces to strings:"
   ]
  },
  {
   "cell_type": "code",
   "execution_count": 63,
   "id": "e529cf86-37b0-4710-8c0d-2e29baad2bfd",
   "metadata": {},
   "outputs": [
    {
     "name": "stdout",
     "output_type": "stream",
     "text": [
      "favourite_language:pythoncjavac++swift\n"
     ]
    }
   ],
   "source": [
    "print(\"favourite_language:pythoncjavac++swift\")"
   ]
  },
  {
   "cell_type": "code",
   "execution_count": 65,
   "id": "e8ff3a46-53ed-43bb-a27c-53552d60ded4",
   "metadata": {},
   "outputs": [
    {
     "name": "stdout",
     "output_type": "stream",
     "text": [
      "favourite_language:\n",
      "python\n",
      "c\n",
      "java\n",
      "c++\n",
      "swift\n",
      "\n"
     ]
    }
   ],
   "source": [
    "print(\"favourite_language:\\npython\\nc\\njava\\nc++\\nswift\\n\")"
   ]
  },
  {
   "cell_type": "code",
   "execution_count": 67,
   "id": "4696c9b8-07c5-435e-ad10-3f07dbe31ecb",
   "metadata": {},
   "outputs": [
    {
     "name": "stdout",
     "output_type": "stream",
     "text": [
      "favourite_language:\n",
      "\tpython\n",
      "\tc\n",
      "\tjava\n",
      "\tc++\n",
      "\tswift\n",
      "\t\n"
     ]
    }
   ],
   "source": [
    "print(\"favourite_language:\\n\\tpython\\n\\tc\\n\\tjava\\n\\tc++\\n\\tswift\\n\\t\")"
   ]
  },
  {
   "cell_type": "code",
   "execution_count": null,
   "id": "0bafbebc-96f2-447b-b62e-40200161173c",
   "metadata": {},
   "outputs": [],
   "source": [
    "Removing white spaces from strings."
   ]
  },
  {
   "cell_type": "code",
   "execution_count": 68,
   "id": "24cbd757-d8ad-433c-bd1c-940c9c4f6702",
   "metadata": {},
   "outputs": [
    {
     "name": "stdout",
     "output_type": "stream",
     "text": [
      "    python\n"
     ]
    }
   ],
   "source": [
    "name = \"    python\"\n",
    "print(name)"
   ]
  },
  {
   "cell_type": "code",
   "execution_count": 74,
   "id": "fe5a3bfb-b2b1-4dde-beb7-a7ecd281f30e",
   "metadata": {},
   "outputs": [
    {
     "data": {
      "text/plain": [
       "'python   '"
      ]
     },
     "execution_count": 74,
     "metadata": {},
     "output_type": "execute_result"
    }
   ],
   "source": [
    "name.lstrip()"
   ]
  },
  {
   "cell_type": "code",
   "execution_count": 70,
   "id": "d4907e0f-dc74-46bf-a25c-aba1ac25903c",
   "metadata": {},
   "outputs": [
    {
     "name": "stdout",
     "output_type": "stream",
     "text": [
      "python   \n"
     ]
    }
   ],
   "source": [
    "name2 = \"python   \"\n",
    "print(name2)"
   ]
  },
  {
   "cell_type": "code",
   "execution_count": 73,
   "id": "5a9e5efc-e908-4ad7-a992-77bc6b92e08c",
   "metadata": {},
   "outputs": [
    {
     "data": {
      "text/plain": [
       "'python'"
      ]
     },
     "execution_count": 73,
     "metadata": {},
     "output_type": "execute_result"
    }
   ],
   "source": [
    "name.rstrip()"
   ]
  },
  {
   "cell_type": "code",
   "execution_count": 75,
   "id": "f9c66a05-b765-47e3-b8d5-7aea9af712fc",
   "metadata": {},
   "outputs": [
    {
     "name": "stdout",
     "output_type": "stream",
     "text": [
      "   python\n"
     ]
    }
   ],
   "source": [
    "name3 = '   python'\n",
    "print(name3)"
   ]
  },
  {
   "cell_type": "code",
   "execution_count": 76,
   "id": "25116fad-b2a6-4189-bd3c-25d6c4278b2e",
   "metadata": {},
   "outputs": [
    {
     "data": {
      "text/plain": [
       "'python'"
      ]
     },
     "execution_count": 76,
     "metadata": {},
     "output_type": "execute_result"
    }
   ],
   "source": [
    "name.strip()"
   ]
  },
  {
   "cell_type": "code",
   "execution_count": null,
   "id": "443b5a47-8b11-4249-bf7d-fed9829cd3d8",
   "metadata": {},
   "outputs": [],
   "source": []
  }
 ],
 "metadata": {
  "kernelspec": {
   "display_name": "Python [conda env:base] *",
   "language": "python",
   "name": "conda-base-py"
  },
  "language_info": {
   "codemirror_mode": {
    "name": "ipython",
    "version": 3
   },
   "file_extension": ".py",
   "mimetype": "text/x-python",
   "name": "python",
   "nbconvert_exporter": "python",
   "pygments_lexer": "ipython3",
   "version": "3.11.4"
  }
 },
 "nbformat": 4,
 "nbformat_minor": 5
}
