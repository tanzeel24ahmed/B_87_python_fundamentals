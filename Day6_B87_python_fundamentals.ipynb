{
 "cells": [
  {
   "cell_type": "code",
   "execution_count": null,
   "id": "4378f9ef-c8e5-4fb9-86ea-7d485d625a66",
   "metadata": {},
   "outputs": [],
   "source": [
    "Introduction to dictionries: "
   ]
  },
  {
   "cell_type": "code",
   "execution_count": null,
   "id": "4a92fe18-d6a1-46a0-b98a-2127b636ed6a",
   "metadata": {},
   "outputs": [],
   "source": [
    "deff: A dictionary is a combinaton of key values."
   ]
  },
  {
   "cell_type": "code",
   "execution_count": null,
   "id": "379ce236-4c27-458d-9637-f38c61c56bcc",
   "metadata": {},
   "outputs": [],
   "source": [
    "classification: it is classified as a mutable data types"
   ]
  },
  {
   "cell_type": "code",
   "execution_count": null,
   "id": "cc15aa3e-fa26-4404-a57c-70b78aab02f9",
   "metadata": {},
   "outputs": [],
   "source": [
    "# How to define a dictionary: Using flower brackets '{}'"
   ]
  },
  {
   "cell_type": "code",
   "execution_count": null,
   "id": "6a394a28-b0cc-40b9-a360-8b04d36611b5",
   "metadata": {},
   "outputs": [],
   "source": [
    "# req: i want to design a alien game."
   ]
  },
  {
   "cell_type": "code",
   "execution_count": 5,
   "id": "bc5fc25d-b379-44eb-bf76-3e11ccdc7594",
   "metadata": {},
   "outputs": [
    {
     "name": "stdout",
     "output_type": "stream",
     "text": [
      "{'color': 'green', 'points': 5}\n"
     ]
    }
   ],
   "source": [
    "alien = {'color':'green','points':5}\n",
    "print(alien)"
   ]
  },
  {
   "cell_type": "code",
   "execution_count": 6,
   "id": "c5dd86e0-1c7a-4b7b-a91d-5bca42db090a",
   "metadata": {},
   "outputs": [
    {
     "data": {
      "text/plain": [
       "dict"
      ]
     },
     "execution_count": 6,
     "metadata": {},
     "output_type": "execute_result"
    }
   ],
   "source": [
    "type(alien)"
   ]
  },
  {
   "cell_type": "code",
   "execution_count": null,
   "id": "523aa5a3-ca39-4b8a-9bef-e3518dfd9f5f",
   "metadata": {},
   "outputs": [],
   "source": [
    "# Dictionary is written as  dict"
   ]
  },
  {
   "cell_type": "code",
   "execution_count": null,
   "id": "ac2fece5-b604-45a9-ada7-115992d887a7",
   "metadata": {},
   "outputs": [],
   "source": [
    "# req: i want to add the start_position of the alien."
   ]
  },
  {
   "cell_type": "code",
   "execution_count": 7,
   "id": "3c4e7045-7491-43db-86d3-91ebef2b7189",
   "metadata": {},
   "outputs": [],
   "source": [
    "alien[\"start_position\"] = 'level1'"
   ]
  },
  {
   "cell_type": "code",
   "execution_count": 8,
   "id": "d9654baf-0929-4341-bd69-0b61f8b1cf1e",
   "metadata": {},
   "outputs": [
    {
     "name": "stdout",
     "output_type": "stream",
     "text": [
      "{'color': 'green', 'points': 5, 'start_position': 'level1'}\n"
     ]
    }
   ],
   "source": [
    "print(alien)"
   ]
  },
  {
   "cell_type": "code",
   "execution_count": null,
   "id": "d8acd478-0e40-4480-a09e-5d575f17c5e9",
   "metadata": {},
   "outputs": [],
   "source": [
    "Note: In the dictionary keys will ne acting as indexes."
   ]
  },
  {
   "cell_type": "code",
   "execution_count": null,
   "id": "4ec5be9d-1b81-4de3-870e-6f07b2ed8e63",
   "metadata": {},
   "outputs": [],
   "source": [
    "# req: i want to know the color of alien."
   ]
  },
  {
   "cell_type": "code",
   "execution_count": 9,
   "id": "0404c49e-c866-4709-8125-fefd96ae0df1",
   "metadata": {},
   "outputs": [
    {
     "data": {
      "text/plain": [
       "'green'"
      ]
     },
     "execution_count": 9,
     "metadata": {},
     "output_type": "execute_result"
    }
   ],
   "source": [
    "alien['color']"
   ]
  },
  {
   "cell_type": "code",
   "execution_count": null,
   "id": "ec63954f-29c6-4d04-9ba2-16096f337519",
   "metadata": {},
   "outputs": [],
   "source": [
    "# req: How to modify the key value pairs in the dictionary."
   ]
  },
  {
   "cell_type": "code",
   "execution_count": null,
   "id": "09e8f4dc-61b7-408d-9266-e560447f53c3",
   "metadata": {},
   "outputs": [],
   "source": [
    "# req: i want to modify the color of a alien green to red."
   ]
  },
  {
   "cell_type": "code",
   "execution_count": 10,
   "id": "548b8583-d18b-45dc-acd2-b45033310aa8",
   "metadata": {},
   "outputs": [
    {
     "name": "stdout",
     "output_type": "stream",
     "text": [
      "{'color': 'red', 'points': 5, 'start_position': 'level1'}\n"
     ]
    }
   ],
   "source": [
    "alien['color'] = 'red'\n",
    "print(alien)"
   ]
  },
  {
   "cell_type": "code",
   "execution_count": null,
   "id": "983bb42e-2847-498c-a556-35b01957f8c7",
   "metadata": {},
   "outputs": [],
   "source": [
    "# req: i want to create the facebook account"
   ]
  },
  {
   "cell_type": "code",
   "execution_count": 25,
   "id": "fca4a9b9-3f2a-4ce5-9f39-768a2c471914",
   "metadata": {},
   "outputs": [
    {
     "name": "stdout",
     "output_type": "stream",
     "text": [
      "{'firstname': 'code', 'lastname': 'training', 'username': 'codetrainingAcademy', 'dob': '01-01-2020'}\n"
     ]
    }
   ],
   "source": [
    "user_account = {'firstname':'code','lastname':'training','username':'codetrainingAcademy','dob':'01-01-2020'}\n",
    "print(user_account)"
   ]
  },
  {
   "cell_type": "code",
   "execution_count": null,
   "id": "ab266d25-9726-4897-ad8e-9dfd30354b77",
   "metadata": {},
   "outputs": [],
   "source": [
    "# How to delete the key value pairs"
   ]
  },
  {
   "cell_type": "code",
   "execution_count": null,
   "id": "b7089a57-0058-43f3-91a5-907145dfd14c",
   "metadata": {},
   "outputs": [],
   "source": [
    "# req: i want to delete the last name."
   ]
  },
  {
   "cell_type": "code",
   "execution_count": 26,
   "id": "6bbc7068-8a40-4c14-9172-b1ff6720c997",
   "metadata": {},
   "outputs": [],
   "source": [
    "del user_account['lastname']"
   ]
  },
  {
   "cell_type": "code",
   "execution_count": 27,
   "id": "31bbe381-096b-4148-bd0a-7500c0e791aa",
   "metadata": {},
   "outputs": [
    {
     "name": "stdout",
     "output_type": "stream",
     "text": [
      "{'firstname': 'code', 'username': 'codetrainingAcademy', 'dob': '01-01-2020'}\n"
     ]
    }
   ],
   "source": [
    "print(user_account)"
   ]
  },
  {
   "cell_type": "code",
   "execution_count": 28,
   "id": "4c38ec55-0d07-41b8-8eb0-1de7cb4687da",
   "metadata": {},
   "outputs": [],
   "source": [
    "del user_account['dob']"
   ]
  },
  {
   "cell_type": "code",
   "execution_count": 29,
   "id": "acf2ea5a-3ce7-4558-95af-18f85925f73a",
   "metadata": {},
   "outputs": [
    {
     "name": "stdout",
     "output_type": "stream",
     "text": [
      "{'firstname': 'code', 'username': 'codetrainingAcademy'}\n"
     ]
    }
   ],
   "source": [
    "print(user_account)"
   ]
  },
  {
   "cell_type": "code",
   "execution_count": 41,
   "id": "d49a43c7-8b60-4b59-bfe7-69dd21a64b55",
   "metadata": {},
   "outputs": [],
   "source": [
    "user_account['firstname'] = 'me'"
   ]
  },
  {
   "cell_type": "code",
   "execution_count": 43,
   "id": "69770523-9e4a-4ea5-b6fd-ffe9e1f16a23",
   "metadata": {},
   "outputs": [
    {
     "name": "stdout",
     "output_type": "stream",
     "text": [
      "{'firstname': 'me', 'username': 'codetrainingAcademy', 'code': 'me'}\n"
     ]
    }
   ],
   "source": [
    "print(user_account)"
   ]
  },
  {
   "cell_type": "code",
   "execution_count": 44,
   "id": "697f53d9-73a6-45d0-a1d4-6762162c439c",
   "metadata": {},
   "outputs": [],
   "source": [
    "del user_account['firstname']"
   ]
  },
  {
   "cell_type": "code",
   "execution_count": 45,
   "id": "567e5d96-1213-4310-84d7-89884be613c3",
   "metadata": {},
   "outputs": [
    {
     "name": "stdout",
     "output_type": "stream",
     "text": [
      "{'username': 'codetrainingAcademy', 'code': 'me'}\n"
     ]
    }
   ],
   "source": [
    "print(user_account)"
   ]
  },
  {
   "cell_type": "code",
   "execution_count": null,
   "id": "b8071c21-d888-462f-8871-4aed9074d553",
   "metadata": {},
   "outputs": [],
   "source": [
    "Introduction to looping statements: "
   ]
  },
  {
   "cell_type": "code",
   "execution_count": 46,
   "id": "cfb45608-b712-4a29-a9e8-5a5ad3416df0",
   "metadata": {},
   "outputs": [],
   "source": [
    "students =['durga','dinesh','kavya','noor','raza','abid','joseph']"
   ]
  },
  {
   "cell_type": "code",
   "execution_count": 47,
   "id": "36a16869-414f-45f4-8d13-b4d5719b5353",
   "metadata": {},
   "outputs": [
    {
     "name": "stdout",
     "output_type": "stream",
     "text": [
      "['durga', 'dinesh', 'kavya', 'noor', 'raza', 'abid', 'joseph']\n"
     ]
    }
   ],
   "source": [
    "print(students)"
   ]
  },
  {
   "cell_type": "code",
   "execution_count": 48,
   "id": "d58dc6b1-24d4-4348-a0f0-04e4601cf159",
   "metadata": {},
   "outputs": [
    {
     "name": "stdout",
     "output_type": "stream",
     "text": [
      "keep up good work,Durga\n"
     ]
    }
   ],
   "source": [
    "print(f\"keep up good work,{students[0].title()}\")"
   ]
  },
  {
   "cell_type": "code",
   "execution_count": 49,
   "id": "d03747ce-1587-465d-8e07-ddf484107877",
   "metadata": {},
   "outputs": [
    {
     "name": "stdout",
     "output_type": "stream",
     "text": [
      "keep up good work,Dinesh\n"
     ]
    }
   ],
   "source": [
    "print(f\"keep up good work,{students[1].title()}\")"
   ]
  },
  {
   "cell_type": "code",
   "execution_count": 50,
   "id": "0239d505-3a6f-448f-919a-7e2c5c3703f3",
   "metadata": {},
   "outputs": [
    {
     "name": "stdout",
     "output_type": "stream",
     "text": [
      "keep up good work,Raza\n"
     ]
    }
   ],
   "source": [
    "print(f\"keep up good work,{students[4].title()}\")"
   ]
  },
  {
   "cell_type": "code",
   "execution_count": null,
   "id": "94af4e1d-674f-460e-bb60-f81e16d7c902",
   "metadata": {},
   "outputs": [],
   "source": [
    "Introduction to for loop:"
   ]
  },
  {
   "cell_type": "code",
   "execution_count": 53,
   "id": "ad336080-9cc9-4279-94a6-521f9cc23aa2",
   "metadata": {},
   "outputs": [
    {
     "name": "stdout",
     "output_type": "stream",
     "text": [
      "keep good work,Durga\n",
      "keep good work,Dinesh\n",
      "keep good work,Kavya\n",
      "keep good work,Noor\n",
      "keep good work,Raza\n",
      "keep good work,Abid\n",
      "keep good work,Joseph\n"
     ]
    }
   ],
   "source": [
    "for x in students: \n",
    "      print(f\"keep good work,{x.title()}\")"
   ]
  },
  {
   "cell_type": "code",
   "execution_count": 64,
   "id": "f92bb8e8-9229-4bc1-bcc7-30e7b1af5cce",
   "metadata": {},
   "outputs": [
    {
     "name": "stdout",
     "output_type": "stream",
     "text": [
      "durga\n",
      "dinesh\n",
      "kavya\n",
      "noor\n",
      "raza\n",
      "abid\n",
      "joseph\n"
     ]
    }
   ],
   "source": [
    "for a in students:\n",
    "         print(a)"
   ]
  },
  {
   "cell_type": "code",
   "execution_count": null,
   "id": "f28380c8-a0db-4867-a054-680712fe0674",
   "metadata": {},
   "outputs": [],
   "source": []
  },
  {
   "cell_type": "code",
   "execution_count": null,
   "id": "fb7571ce-dafd-4b1f-97d4-b8059d1bdc26",
   "metadata": {},
   "outputs": [],
   "source": []
  },
  {
   "cell_type": "code",
   "execution_count": null,
   "id": "c4843410-0486-4f37-860f-634d6f7b9111",
   "metadata": {},
   "outputs": [],
   "source": []
  },
  {
   "cell_type": "code",
   "execution_count": null,
   "id": "3ea6c5fe-b5b2-45c8-91c4-4b1c870cb32f",
   "metadata": {},
   "outputs": [],
   "source": []
  },
  {
   "cell_type": "code",
   "execution_count": null,
   "id": "221962c0-c6e0-4c7a-a70b-e2721bd1d92e",
   "metadata": {},
   "outputs": [],
   "source": []
  }
 ],
 "metadata": {
  "kernelspec": {
   "display_name": "Python [conda env:base] *",
   "language": "python",
   "name": "conda-base-py"
  },
  "language_info": {
   "codemirror_mode": {
    "name": "ipython",
    "version": 3
   },
   "file_extension": ".py",
   "mimetype": "text/x-python",
   "name": "python",
   "nbconvert_exporter": "python",
   "pygments_lexer": "ipython3",
   "version": "3.11.4"
  }
 },
 "nbformat": 4,
 "nbformat_minor": 5
}
